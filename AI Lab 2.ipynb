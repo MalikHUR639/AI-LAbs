{
 "cells": [
  {
   "cell_type": "markdown",
   "metadata": {},
   "source": [
    "# 01: \n",
    "Write a Python program to find those numbers which are divisible by 7 and multiple of \n",
    "5, between 1500 and 2700 (both included)."
   ]
  },
  {
   "cell_type": "code",
   "execution_count": 1,
   "metadata": {
    "scrolled": true
   },
   "outputs": [
    {
     "name": "stdout",
     "output_type": "stream",
     "text": [
      "  1505\n",
      "  1540\n",
      "  1575\n",
      "  1610\n",
      "  1645\n",
      "  1680\n",
      "  1715\n",
      "  1750\n",
      "  1785\n",
      "  1820\n",
      "  1855\n",
      "  1890\n",
      "  1925\n",
      "  1960\n",
      "  1995\n",
      "  2030\n",
      "  2065\n",
      "  2100\n",
      "  2135\n",
      "  2170\n",
      "  2205\n",
      "  2240\n",
      "  2275\n",
      "  2310\n",
      "  2345\n",
      "  2380\n",
      "  2415\n",
      "  2450\n",
      "  2485\n",
      "  2520\n",
      "  2555\n",
      "  2590\n",
      "  2625\n",
      "  2660\n",
      "  2695\n"
     ]
    }
   ],
   "source": [
    "for i in range(1500,2701):\n",
    "    if (i%7==0) and (i%5==0):\n",
    "        print(\" \",i)"
   ]
  },
  {
   "cell_type": "markdown",
   "metadata": {},
   "source": [
    "# 02:\n",
    "Write a Python program to convert temperatures to and from celsius, fahrenheit. \n",
    "[ Formula : c/5 = f-32/9 [ where c = temperature in celsius and f = temperature in \n",
    "fahrenheit ]\n",
    "Expected Output :\n",
    "60°C is 140 in Fahrenheit \n",
    "45°F is 7 in Celsius"
   ]
  },
  {
   "cell_type": "code",
   "execution_count": 11,
   "metadata": {},
   "outputs": [
    {
     "name": "stdout",
     "output_type": "stream",
     "text": [
      "Enter an temp and this will change it in other unit:60f\n",
      "Value 60f is equal to 15.555555555555557C\n"
     ]
    }
   ],
   "source": [
    "x=input(\"Enter an temp and this will change it in other unit:\")\n",
    "value=int(x[:-1])\n",
    "unit=str(x[-1])\n",
    "if unit=='C' or unit=='c':\n",
    "    F = ((value - 32) * 5 / 9)\n",
    "    print(f\"Value {x} is equal to {F}f\")\n",
    "elif unit=='F' or unit=='f':\n",
    "    C = (5/9) * (value - 32)\n",
    "    print(f\"Value {x} is equal to {C}C\")\n",
    "else:\n",
    "    print(\"Invalid Input\")"
   ]
  },
  {
   "cell_type": "markdown",
   "metadata": {},
   "source": [
    "# 03\n",
    "Write a Python program to guess a number between 1 to 9.\n",
    "Note : User is prompted to enter a guess. If the user guesses wrong then the prompt \n",
    "appears again until the guess is correct, on successful guess, user will get a \"Well \n",
    "guessed!\" message, and the program will exit"
   ]
  },
  {
   "cell_type": "code",
   "execution_count": 13,
   "metadata": {},
   "outputs": [
    {
     "name": "stdout",
     "output_type": "stream",
     "text": [
      "Enter an number:3\n",
      "Enter an number:4\n",
      "Well guessed!\n"
     ]
    }
   ],
   "source": [
    "import numpy as np\n",
    "x=np.random.randint(1,9)\n",
    "value=int(input(\"Enter an number:\"))\n",
    "while value!=x:\n",
    "    value=int(input(\"Enter an number:\"))\n",
    "print(\"Well guessed!\") "
   ]
  },
  {
   "cell_type": "markdown",
   "metadata": {},
   "source": [
    "# 04\n",
    "Write a Python program to construct the following pattern, using a nested for loop"
   ]
  },
  {
   "cell_type": "code",
   "execution_count": 27,
   "metadata": {},
   "outputs": [
    {
     "name": "stdout",
     "output_type": "stream",
     "text": [
      "*\n",
      "**\n",
      "***\n",
      "****\n",
      "*****\n",
      "****\n",
      "***\n",
      "**\n",
      "*\n"
     ]
    }
   ],
   "source": [
    "for i in range(1,6):\n",
    "    print('*'*i)\n",
    "for n in range(4,0,-1): \n",
    "    print('*'*n)\n"
   ]
  },
  {
   "cell_type": "markdown",
   "metadata": {},
   "source": [
    "# 05\n",
    "Write a Python program that accepts a word from the user and reverse it"
   ]
  },
  {
   "cell_type": "code",
   "execution_count": 28,
   "metadata": {},
   "outputs": [
    {
     "name": "stdout",
     "output_type": "stream",
     "text": [
      "Please enter an word:hello\n",
      "Reverse of hello = olleh\n"
     ]
    }
   ],
   "source": [
    "x=input(\"Please enter an word:\")\n",
    "rev=x[::-1]\n",
    "print(f\"Reverse of {x} = {rev}\")"
   ]
  },
  {
   "cell_type": "markdown",
   "metadata": {},
   "source": [
    "# 06\n",
    "Write a Python program to count the number of even and odd numbers from a series of \n",
    "numbers.\n",
    "Sample numbers : numbers = (1, 2, 3, 4, 5, 6, 7, 8, 9)\n",
    "Expected Output :\n",
    "Number of even numbers : 5 \n",
    "Number of odd numbers : 4"
   ]
  },
  {
   "cell_type": "code",
   "execution_count": 50,
   "metadata": {},
   "outputs": [
    {
     "name": "stdout",
     "output_type": "stream",
     "text": [
      "Number of even numbers :4\n",
      "Number of odd numbers :5\n"
     ]
    }
   ],
   "source": [
    "numbers = (1, 2, 3, 4, 5, 6, 7, 8, 9) # Declaring the tuple\n",
    "odd = 0\n",
    "even = 0\n",
    "for x in numbers:\n",
    "        if not x % 2:\n",
    "             even+=1\n",
    "        else:\n",
    "             odd+=1\n",
    "print(f\"Number of even numbers :{even}\")\n",
    "print(f\"Number of odd numbers :{odd}\")"
   ]
  },
  {
   "cell_type": "markdown",
   "metadata": {},
   "source": [
    "# 07\n",
    "Write a Python program that prints each item and its corresponding type from the \n",
    "following list.\n",
    "Sample List : datalist = [1452, 11.23, 1+2j, True, 'w3resource', (0, -1), [5, 12],\n",
    "{\"class\":'V', \"section\":'A'}]"
   ]
  },
  {
   "cell_type": "code",
   "execution_count": 51,
   "metadata": {},
   "outputs": [
    {
     "name": "stdout",
     "output_type": "stream",
     "text": [
      "<class 'int'>\n",
      "<class 'float'>\n",
      "<class 'complex'>\n",
      "<class 'bool'>\n",
      "<class 'str'>\n",
      "<class 'tuple'>\n",
      "<class 'list'>\n",
      "<class 'dict'>\n"
     ]
    }
   ],
   "source": [
    "datalist = [1452, 11.23, 1+2j, True, 'w3resource', (0, -1), [5, 12], {\"class\":'V', \"section\":'A'}]\n",
    "for i in datalist:\n",
    "    print(type(i))"
   ]
  },
  {
   "cell_type": "markdown",
   "metadata": {},
   "source": [
    "# 08\n",
    "Write a Python program that prints all the numbers from 0 to 6 except 3 and 6. \n",
    "Note : Use 'continue' statement.\n",
    "Expected Output : 0 1 2 4 5"
   ]
  },
  {
   "cell_type": "code",
   "execution_count": 63,
   "metadata": {},
   "outputs": [
    {
     "name": "stdout",
     "output_type": "stream",
     "text": [
      "0 1 2 4 5 "
     ]
    }
   ],
   "source": [
    "num=(0,1,2,3,4,5,6)\n",
    "for i in num:\n",
    "    if (i==3 or i==6):\n",
    "        continue\n",
    "    print(i,end=' ')"
   ]
  },
  {
   "cell_type": "markdown",
   "metadata": {},
   "source": [
    "# 09\n",
    "Write a Python program to get the Fibonacci series between 0 to 50. \n",
    "Note : The Fibonacci Sequence is the series of numbers :\n",
    "0, 1, 1, 2, 3, 5, 8, 13, 21, ....\n",
    "Every next number is found by adding up the two numbers before it. \n",
    "Expected Output : 1 1 2 3 5 8 13 21 34"
   ]
  },
  {
   "cell_type": "code",
   "execution_count": 65,
   "metadata": {},
   "outputs": [
    {
     "name": "stdout",
     "output_type": "stream",
     "text": [
      "1\n",
      "1\n",
      "2\n",
      "3\n",
      "5\n",
      "8\n",
      "13\n",
      "21\n",
      "34\n"
     ]
    }
   ],
   "source": [
    "x=0\n",
    "y=1\n",
    "while y<50:\n",
    "    print(y)\n",
    "    x,y=y,x+y"
   ]
  },
  {
   "cell_type": "markdown",
   "metadata": {},
   "source": [
    "# 10\n",
    "Write a Python program which iterates the integers from 1 to 50. For multiples of \n",
    "three print \"Fizz\" instead of the number and for the multiples of five print \"Buzz\". For \n",
    "numbers which are multiples of both three and five print \"FizzBuzz\".\n",
    "Sample Output :\n",
    "fizzbuzz \n",
    "1\n",
    "2\n",
    "fizz \n",
    "4\n",
    "buzz"
   ]
  },
  {
   "cell_type": "code",
   "execution_count": 79,
   "metadata": {
    "scrolled": true
   },
   "outputs": [
    {
     "name": "stdout",
     "output_type": "stream",
     "text": [
      "1\n",
      "2\n",
      "fizz\n",
      "4\n",
      "fuzz\n",
      "fizz\n",
      "7\n",
      "8\n",
      "fizz\n",
      "fuzz\n",
      "11\n",
      "fizz\n",
      "13\n",
      "14\n",
      "fizzfuzz\n",
      "15\n",
      "16\n",
      "17\n",
      "fizz\n",
      "19\n",
      "fuzz\n",
      "fizz\n",
      "22\n",
      "23\n",
      "fizz\n",
      "fuzz\n",
      "26\n",
      "fizz\n",
      "28\n",
      "29\n",
      "fizzfuzz\n",
      "30\n",
      "31\n",
      "32\n",
      "fizz\n",
      "34\n",
      "fuzz\n",
      "fizz\n",
      "37\n",
      "38\n",
      "fizz\n",
      "fuzz\n",
      "41\n",
      "fizz\n",
      "43\n",
      "44\n",
      "fizzfuzz\n",
      "45\n",
      "46\n",
      "47\n",
      "fizz\n",
      "49\n",
      "fuzz\n"
     ]
    }
   ],
   "source": [
    "for i in range(1,51):\n",
    "    if (i%3==0 and i%5==0):\n",
    "        print('fizzfuzz')\n",
    "    elif i%3==0:\n",
    "        print('fizz')\n",
    "        continue\n",
    "    elif i%5==0:\n",
    "        print('fuzz')\n",
    "        continue\n",
    "    print(i)"
   ]
  },
  {
   "cell_type": "markdown",
   "metadata": {},
   "source": [
    "# 11\n",
    "Write a Python program which takes two digits m (row) and n (column) as input and \n",
    "generates a two-dimensional array. The element value in the i-th row and j-th column of \n",
    "the array should be i*j.\n",
    "Note :\n",
    "i = 0,1.., m-1\n",
    "j = 0,1, n-1.\n",
    "Test Data : Rows = 3, Columns = 4\n",
    "Expected Result : [[0, 0, 0, 0], [0, 1, 2, 3], [0, 2, 4, 6]]"
   ]
  },
  {
   "cell_type": "code",
   "execution_count": 85,
   "metadata": {},
   "outputs": [
    {
     "name": "stdout",
     "output_type": "stream",
     "text": [
      "Enter no. of columns:3\n",
      "Enter no. of rows:4\n",
      "[[0, 0, 0], [0, 1, 2], [0, 2, 4], [0, 3, 6]]\n"
     ]
    }
   ],
   "source": [
    "import numpy as np\n",
    "ncol=int(input(\"Enter no. of columns:\"))\n",
    "nrow=int(input(\"Enter no. of rows:\"))\n",
    "matrix = [[0 for col in range(ncol)] for row in range(nrow)]\n",
    "\n",
    "for row in range(nrow):\n",
    "    for col in range(ncol):\n",
    "        matrix[row][col]= row*col\n",
    "\n",
    "print(matrix)"
   ]
  },
  {
   "cell_type": "markdown",
   "metadata": {},
   "source": [
    "# 12\n",
    ". Write a Python program that accepts a sequence of lines (blank line to terminate) as \n",
    "input and prints the lines as output (all characters in lower case"
   ]
  },
  {
   "cell_type": "code",
   "execution_count": 86,
   "metadata": {},
   "outputs": [
    {
     "name": "stdout",
     "output_type": "stream",
     "text": [
      "python\n",
      "\n",
      "PYTHON\n"
     ]
    }
   ],
   "source": [
    "x=[]\n",
    "while True:\n",
    "    i=input()\n",
    "    if i:\n",
    "        x.append(i.upper())\n",
    "    else:\n",
    "        break\n",
    "for i in x:\n",
    "    print(i)"
   ]
  },
  {
   "cell_type": "markdown",
   "metadata": {},
   "source": [
    "# 13\n",
    ". Write a Python program which accepts a sequence of comma separated 4 digit binary \n",
    "numbers as its input and print the numbers that are divisible by 5 in a comma separated \n",
    "sequence.\n",
    "Sample Data : 0100,0011,1010,1001,1100,1001\n",
    "Expected Output : 1010"
   ]
  },
  {
   "cell_type": "code",
   "execution_count": 93,
   "metadata": {},
   "outputs": [
    {
     "name": "stdout",
     "output_type": "stream",
     "text": [
      "Enter comma separated 4 digit binary numbrs:1010,1100,0101\n",
      "['1010', '0101']\n"
     ]
    }
   ],
   "source": [
    "items = []\n",
    "inp=input(\"Enter comma separated 4 digit binary numbrs:\").split(',')\n",
    "num = [x for x in inp]\n",
    "for p in num:\n",
    "    x = int(p,2)\n",
    "    if x%5==0:\n",
    "        items.append(p)\n",
    "print(items)"
   ]
  },
  {
   "cell_type": "markdown",
   "metadata": {},
   "source": [
    "# 14\n",
    "Write a Python program that accepts a string and calculate the number of digits and \n",
    "letters.\n",
    "Sample Data : Python 3.2 \n",
    "Expected Output :\n",
    "Letters 6\n",
    "Digits 2"
   ]
  },
  {
   "cell_type": "code",
   "execution_count": 5,
   "metadata": {},
   "outputs": [
    {
     "name": "stdout",
     "output_type": "stream",
     "text": [
      "Enter string:python 3.2\n",
      "Letters 6\n",
      "Digits 2\n"
     ]
    }
   ],
   "source": [
    "x=input(\"Enter string:\")\n",
    "d=0\n",
    "l=0\n",
    "for i in x:\n",
    "    if i.isdigit():\n",
    "        d+=1\n",
    "    elif i.isalpha():\n",
    "        l+=1\n",
    "    else:\n",
    "        continue\n",
    "print(f\"Letters {l}\")\n",
    "print(f\"Digits {d}\")"
   ]
  },
  {
   "cell_type": "markdown",
   "metadata": {},
   "source": [
    "# 15\n",
    "Write a Python program to check the validity of password input by users. \n",
    "Validation :  At least 1 letter between [a-z] and 1 letter between [A-Z].  At least 1 number between [0-9].  At least 1 character from [$#@].  Minimum length 6 characters.  Maximum length 1"
   ]
  },
  {
   "cell_type": "code",
   "execution_count": 7,
   "metadata": {},
   "outputs": [
    {
     "name": "stdout",
     "output_type": "stream",
     "text": [
      "Enter Password: R@m@_f0rtu9e$\n",
      "Valid Password\n"
     ]
    }
   ],
   "source": [
    "l, u, p, d = 0, 0, 0, 0\n",
    "s = input(\"Enter Password: \")\n",
    "if (len(s) >= 8):\n",
    "    for i in s:\n",
    "  \n",
    "        # counting lowercase alphabets \n",
    "        if (i.islower()):\n",
    "            l+=1            \n",
    "  \n",
    "        # counting uppercase alphabets\n",
    "        if (i.isupper()):\n",
    "            u+=1            \n",
    "  \n",
    "        # counting digits\n",
    "        if (i.isdigit()):\n",
    "            d+=1            \n",
    "  \n",
    "        # counting the mentioned special characters\n",
    "        if(i=='@'or i=='$' or i=='_'):\n",
    "            p+=1           \n",
    "if (l>=1 and u>=1 and p>=1 and d>=1 and l+p+u+d==len(s)):\n",
    "    print(\"Valid Password\")\n",
    "else:\n",
    "    print(\"Invalid Password\")"
   ]
  }
 ],
 "metadata": {
  "kernelspec": {
   "display_name": "Python 3",
   "language": "python",
   "name": "python3"
  },
  "language_info": {
   "codemirror_mode": {
    "name": "ipython",
    "version": 3
   },
   "file_extension": ".py",
   "mimetype": "text/x-python",
   "name": "python",
   "nbconvert_exporter": "python",
   "pygments_lexer": "ipython3",
   "version": "3.8.5"
  }
 },
 "nbformat": 4,
 "nbformat_minor": 4
}
