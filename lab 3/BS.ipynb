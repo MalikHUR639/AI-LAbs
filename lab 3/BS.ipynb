{
 "cells": [
  {
   "cell_type": "code",
   "execution_count": 6,
   "metadata": {},
   "outputs": [
    {
     "name": "stdout",
     "output_type": "stream",
     "text": [
      "Searched element is at index 3\n"
     ]
    }
   ],
   "source": [
    "def BinarySearch(arr,low,high,x):\n",
    "    if(len(arr)>=0):\n",
    "\n",
    "        mid=(high+low)//2\n",
    "        if(arr[mid]==x):\n",
    "            return mid\n",
    "        elif(arr[mid]>x):\n",
    "            BinarySearch(arr,low,mid-1,x)\n",
    "        elif(arr[mid]<x):\n",
    "            BinarySearch(arr,mid+1,high,x)\n",
    "    else:\n",
    "        return -1\n",
    "arr=[2,4,6,33,8,9,10,24]\n",
    "x=33\n",
    "result = int(BinarySearch(arr,0,len(arr)-1,x))\n",
    "if(result!=-1):\n",
    "    print(f\"Searched element is at index {result}\")\n",
    "else:\n",
    "    print(\"Searched element is not in this array\")"
   ]
  }
 ],
 "metadata": {
  "kernelspec": {
   "display_name": "Python 3",
   "language": "python",
   "name": "python3"
  },
  "language_info": {
   "codemirror_mode": {
    "name": "ipython",
    "version": 3
   },
   "file_extension": ".py",
   "mimetype": "text/x-python",
   "name": "python",
   "nbconvert_exporter": "python",
   "pygments_lexer": "ipython3",
   "version": "3.8.5"
  }
 },
 "nbformat": 4,
 "nbformat_minor": 4
}
