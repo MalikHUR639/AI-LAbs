{
 "cells": [
  {
   "cell_type": "code",
   "execution_count": 18,
   "metadata": {},
   "outputs": [
    {
     "data": {
      "text/plain": [
       "'world'"
      ]
     },
     "execution_count": 18,
     "metadata": {},
     "output_type": "execute_result"
    }
   ],
   "source": [
    "class queue:\n",
    "    def __init__(self):\n",
    "        self.item=[]\n",
    "    def isEmpty(self):\n",
    "        if(self.item==[]):\n",
    "            print(\"Queue is Empty.\")\n",
    "        else:\n",
    "            print(\"No\")\n",
    "#         return self.item==[]\n",
    "    def enqueue(self,n):\n",
    "        self.item.insert(0,n)\n",
    "    def dequeue(self):\n",
    "        return self.item.pop()\n",
    "    def size(self):\n",
    "        return len(self.item)\n",
    "    def rear(self):\n",
    "        return self.item[0]\n",
    "    def front(self):\n",
    "        return self.item.pop()\n",
    "qu=queue()\n",
    "qu.enqueue(3)\n",
    "qu.enqueue('hello')\n",
    "qu.enqueue('world')\n",
    "\n",
    "qu.rear()"
   ]
  }
 ],
 "metadata": {
  "kernelspec": {
   "display_name": "Python 3",
   "language": "python",
   "name": "python3"
  },
  "language_info": {
   "codemirror_mode": {
    "name": "ipython",
    "version": 3
   },
   "file_extension": ".py",
   "mimetype": "text/x-python",
   "name": "python",
   "nbconvert_exporter": "python",
   "pygments_lexer": "ipython3",
   "version": "3.8.5"
  }
 },
 "nbformat": 4,
 "nbformat_minor": 4
}
