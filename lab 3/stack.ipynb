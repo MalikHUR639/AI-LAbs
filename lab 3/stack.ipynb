{
 "cells": [
  {
   "cell_type": "code",
   "execution_count": 33,
   "metadata": {
    "scrolled": true
   },
   "outputs": [
    {
     "data": {
      "text/plain": [
       "5"
      ]
     },
     "execution_count": 33,
     "metadata": {},
     "output_type": "execute_result"
    }
   ],
   "source": [
    "class Stack():\n",
    "    def __init__(self):\n",
    "        self.item=[]\n",
    "    def peek(self):\n",
    "        return self.item[0] \n",
    "    def push(self,n):\n",
    "        self.item.insert(0,n)\n",
    "    def pop(self):\n",
    "        return self.item.pop(0)\n",
    "    def isEmpty(self):\n",
    "        if(self.item==[]):\n",
    "            print(\"Stack is Empty!\")\n",
    "        else:\n",
    "            print(\"Stack is not Empty!\")\n",
    "    def size(self):\n",
    "        return len(self.item)\n",
    "            \n",
    "s=Stack()\n",
    "# s.isEmpty()\n",
    "s.push(5)\n",
    "s.push(7)\n",
    "s.pop()\n",
    "s.peek()"
   ]
  }
 ],
 "metadata": {
  "kernelspec": {
   "display_name": "Python 3",
   "language": "python",
   "name": "python3"
  },
  "language_info": {
   "codemirror_mode": {
    "name": "ipython",
    "version": 3
   },
   "file_extension": ".py",
   "mimetype": "text/x-python",
   "name": "python",
   "nbconvert_exporter": "python",
   "pygments_lexer": "ipython3",
   "version": "3.8.5"
  }
 },
 "nbformat": 4,
 "nbformat_minor": 4
}
